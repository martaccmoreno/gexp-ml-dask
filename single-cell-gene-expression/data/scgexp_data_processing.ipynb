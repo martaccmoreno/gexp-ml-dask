{
 "cells": [
  {
   "cell_type": "markdown",
   "metadata": {},
   "source": [
    "* Esophagus single-cell expression data obtained from:\n",
    "https://data.humancellatlas.org/explore/projects/c4077b3c-5c98-4d26-a614-246d12c2e5d7/project-matrices\n",
    "\n",
    "* Subsample single-cell gene expression data without replacement.\n",
    "\n",
    "Desired output sizes:\n",
    "* n = 20k, 40k, 87 947\n",
    "* f = 2.5k, 5k, 10k, 24 245\n",
    "\n",
    "Cross all these values."
   ]
  },
  {
   "cell_type": "code",
   "execution_count": 1,
   "metadata": {
    "pycharm": {
     "name": "#%%\n"
    }
   },
   "outputs": [
    {
     "name": "stdout",
     "output_type": "stream",
     "text": [
      "(87947, 24245)\n",
      "0\n"
     ]
    }
   ],
   "source": [
    "import gc\n",
    "import scanpy as sc\n",
    "scgexp_data = sc.read(\"oesophagus.cellxgene.h5ad\")\n",
    "scgexp_df = scgexp_data.to_df()\n",
    "del scgexp_data\n",
    "gc.collect()\n",
    "# indices samples, columns genes\n",
    "print(scgexp_df.shape)\n",
    "print(scgexp_df.isnull().sum().sum())"
   ]
  },
  {
   "cell_type": "code",
   "execution_count": 2,
   "outputs": [
    {
     "name": "stdout",
     "output_type": "stream",
     "text": [
      "(40000, 10000)\n",
      "(40000, 15000)\n",
      "(40000, 20000)\n",
      "(40000, 24245)\n",
      "(60000, 10000)\n",
      "(60000, 15000)\n",
      "(60000, 20000)\n",
      "(60000, 24245)\n",
      "(87947, 10000)\n",
      "(87947, 15000)\n",
      "(87947, 20000)\n",
      "(87947, 24245)\n"
     ]
    }
   ],
   "source": [
    "import dask.dataframe as dd\n",
    "\n",
    "for n in [40000, 60000, scgexp_df.shape[0]]:\n",
    "    for f in [10000, 15000, 20000, scgexp_df.shape[1]]:\n",
    "        ss_df = scgexp_df.sample(n=n, axis='index', random_state=42).sample(n=f, axis='columns', random_state=42)\n",
    "        ss_df.to_csv(f'n{n}xf{f}.csv')\n",
    "        ss_df.to_parquet(f'n{n}xf{f}_whole.parquet')\n",
    "        ss_df_dask = dd.from_pandas(ss_df, npartitions=1).repartition(partition_size='100MB')\n",
    "        del ss_df\n",
    "        gc.collect()\n",
    "        dd.to_parquet(ss_df_dask, f'n{n}xf{f}.parquet', overwrite=True)\n",
    "        del ss_df_dask\n",
    "        gc.collect()"
   ],
   "metadata": {
    "collapsed": false,
    "pycharm": {
     "name": "#%%\n"
    }
   }
  }
 ],
 "metadata": {
  "kernelspec": {
   "display_name": "Python 3 (ipykernel)",
   "language": "python",
   "name": "python3"
  },
  "language_info": {
   "codemirror_mode": {
    "name": "ipython",
    "version": 3
   },
   "file_extension": ".py",
   "mimetype": "text/x-python",
   "name": "python",
   "nbconvert_exporter": "python",
   "pygments_lexer": "ipython3",
   "version": "3.9.4"
  }
 },
 "nbformat": 4,
 "nbformat_minor": 1
}