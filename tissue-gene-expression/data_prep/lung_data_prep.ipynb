{
 "cells": [
  {
   "cell_type": "markdown",
   "metadata": {
    "pycharm": {
     "name": "#%% md\n"
    }
   },
   "source": [
    "All steps were conducted on Linux Ubuntu 20.04.3 LTS.\n",
    "\n",
    "## Create data folder"
   ]
  },
  {
   "cell_type": "code",
   "execution_count": null,
   "outputs": [],
   "source": [
    "!mkdir -p data/lung_data"
   ],
   "metadata": {
    "collapsed": false,
    "pycharm": {
     "name": "#%%\n"
    }
   }
  },
  {
   "cell_type": "markdown",
   "source": [
    "### Exposure Data\n",
    "\n",
    "* [GDC Data Portal Repository for Transcriptome Profiling Gene Expression Quantification FPKM+UQ Files for TCGA Projects LUAD+LUSC (lung cancers)](https://portal.gdc.cancer.gov/repository?facetTab=cases&filters=%7B%22op%22%3A%22and%22%2C%22content%22%3A%5B%7B%22op%22%3A%22in%22%2C%22content%22%3A%7B%22field%22%3A%22cases.project.program.name%22%2C%22value%22%3A%5B%22TCGA%22%5D%7D%7D%2C%7B%22op%22%3A%22in%22%2C%22content%22%3A%7B%22field%22%3A%22cases.project.project_id%22%2C%22value%22%3A%5B%22TCGA-LUAD%22%2C%22TCGA-LUSC%22%5D%7D%7D%2C%7B%22op%22%3A%22in%22%2C%22content%22%3A%7B%22field%22%3A%22files.analysis.workflow_type%22%2C%22value%22%3A%5B%22HTSeq%20-%20FPKM-UQ%22%5D%7D%7D%2C%7B%22op%22%3A%22in%22%2C%22content%22%3A%7B%22field%22%3A%22files.data_category%22%2C%22value%22%3A%5B%22transcriptome%20profiling%22%5D%7D%7D%2C%7B%22op%22%3A%22in%22%2C%22content%22%3A%7B%22field%22%3A%22files.data_type%22%2C%22value%22%3A%5B%22Gene%20Expression%20Quantification%22%5D%7D%7D%5D%7D)\n",
    "(last visited 2022/01/06)\n",
    "* Add All Files to Cart.\n",
    "* At the cart, press Clinical, then TSV. From that compressed directory, extract the file `exposure.tsv` and place it\n",
    "in the same directory as this notebook.\n",
    "* Still at the cart, press Metadata. Save that JSON file in the same directory as this notebook."
   ],
   "metadata": {
    "collapsed": false,
    "pycharm": {
     "name": "#%% md\n"
    }
   }
  },
  {
   "cell_type": "markdown",
   "metadata": {},
   "source": [
    "* The file `exposure.tsv` has two issues that must be solved for our purposes.\n",
    "* First, it contains extraneous information; we only need to know the number of cigarettes smoked per day\n",
    "as our label.\n",
    "* Second, samples are labeled with a case id, rather than with a filename, as is the case with gene expression\n",
    "quantification data. This information is required to match our desired label with each sample's gene expression data\n",
    "levels."
   ]
  },
  {
   "cell_type": "markdown",
   "metadata": {},
   "source": [
    "* To fix these issues, we start by loading the `case_id` and `cigarettes_per_day` columns from the `exposure.tsv` file\n",
    "into a pandas dataframe. Rows marked as `'--` are NaN values, so we drop them."
   ]
  },
  {
   "cell_type": "code",
   "execution_count": 1,
   "metadata": {
    "pycharm": {
     "name": "#%%\n"
    }
   },
   "outputs": [
    {
     "name": "stdout",
     "output_type": "stream",
     "text": [
      "(Number labels, number columns) =  (776, 2)\n"
     ]
    }
   ],
   "source": [
    "import pandas as pd\n",
    "\n",
    "raw_cigs_per_day = pd.read_csv('exposure.tsv', index_col=None, header=0, sep='\\t',\n",
    "                           usecols=['case_id', 'cigarettes_per_day'], na_values=\"'--\").dropna()\n",
    "print(\"(Number labels, number columns) = \", raw_cigs_per_day.shape)"
   ]
  },
  {
   "cell_type": "code",
   "execution_count": 2,
   "metadata": {
    "pycharm": {
     "name": "#%%\n"
    }
   },
   "outputs": [
    {
     "data": {
      "text/plain": "                                case_id  cigarettes_per_day\n0  cbbea9f1-396a-4bf3-b67c-2cac3394dceb            0.821918\n1  e499069b-a16a-49e9-941a-e3e9ea62af25            3.287671\n3  aee86a89-0377-4080-b16c-408bfbe78687            4.383562\n5  44218b35-219c-4ad9-a01e-fde14067c4c0            5.150685\n6  34d8e84e-c3e1-417d-8b9b-8563d9fa0f8e            3.287671",
      "text/html": "<div>\n<style scoped>\n    .dataframe tbody tr th:only-of-type {\n        vertical-align: middle;\n    }\n\n    .dataframe tbody tr th {\n        vertical-align: top;\n    }\n\n    .dataframe thead th {\n        text-align: right;\n    }\n</style>\n<table border=\"1\" class=\"dataframe\">\n  <thead>\n    <tr style=\"text-align: right;\">\n      <th></th>\n      <th>case_id</th>\n      <th>cigarettes_per_day</th>\n    </tr>\n  </thead>\n  <tbody>\n    <tr>\n      <th>0</th>\n      <td>cbbea9f1-396a-4bf3-b67c-2cac3394dceb</td>\n      <td>0.821918</td>\n    </tr>\n    <tr>\n      <th>1</th>\n      <td>e499069b-a16a-49e9-941a-e3e9ea62af25</td>\n      <td>3.287671</td>\n    </tr>\n    <tr>\n      <th>3</th>\n      <td>aee86a89-0377-4080-b16c-408bfbe78687</td>\n      <td>4.383562</td>\n    </tr>\n    <tr>\n      <th>5</th>\n      <td>44218b35-219c-4ad9-a01e-fde14067c4c0</td>\n      <td>5.150685</td>\n    </tr>\n    <tr>\n      <th>6</th>\n      <td>34d8e84e-c3e1-417d-8b9b-8563d9fa0f8e</td>\n      <td>3.287671</td>\n    </tr>\n  </tbody>\n</table>\n</div>"
     },
     "execution_count": 2,
     "metadata": {},
     "output_type": "execute_result"
    }
   ],
   "source": [
    "raw_cigs_per_day.head()"
   ]
  },
  {
   "cell_type": "markdown",
   "metadata": {},
   "source": [
    "* To ensure the label and gene expression data have matching sample names, we next load the metadata\n",
    "to create a dictionary mapping case ids to filenames."
   ]
  },
  {
   "cell_type": "code",
   "execution_count": 3,
   "metadata": {
    "pycharm": {
     "name": "#%%\n"
    }
   },
   "outputs": [],
   "source": [
    "import json\n",
    "\n",
    "def get_caseid_filename_dict(metadata):\n",
    "    with open(metadata) as f:\n",
    "        metadata_json = json.load(f)\n",
    "    submitter_filename_dict = {entry['associated_entities'][0]['case_id']: entry['file_name']\n",
    "                               for entry in metadata_json}\n",
    "    return submitter_filename_dict"
   ]
  },
  {
   "cell_type": "code",
   "execution_count": 4,
   "metadata": {
    "pycharm": {
     "name": "#%%\n"
    }
   },
   "outputs": [],
   "source": [
    "mapping_dict = get_caseid_filename_dict('metadata.cart.2022-01-06.json')  # replace with your metadata's filename\n",
    "\n",
    "raw_cigs_per_day['case_id'] = raw_cigs_per_day['case_id'].map(mapping_dict)\n",
    "raw_cigs_per_day = raw_cigs_per_day.rename(columns={'case_id': 'filenames'})\n",
    "raw_cigs_per_day = raw_cigs_per_day.set_index('filenames')"
   ]
  },
  {
   "cell_type": "code",
   "execution_count": 5,
   "metadata": {
    "pycharm": {
     "name": "#%%\n"
    }
   },
   "outputs": [
    {
     "data": {
      "text/plain": "                                                    cigarettes_per_day\nfilenames                                                             \n1ef4c9a4-403e-4ed2-b9d6-06302a842278.FPKM-UQ.tx...            0.821918\n44615ba8-36ce-4d2e-9d9d-b2f01179b6c8.FPKM-UQ.tx...            3.287671\n378bba31-bcf1-49a1-b1ff-e14278f7054c.FPKM-UQ.tx...            4.383562\n6fdbffc8-dac1-4a98-9912-9084b2ce3f28.FPKM-UQ.tx...            5.150685\nee6fc916-052f-4fab-974f-119ab34078d6.FPKM-UQ.tx...            3.287671",
      "text/html": "<div>\n<style scoped>\n    .dataframe tbody tr th:only-of-type {\n        vertical-align: middle;\n    }\n\n    .dataframe tbody tr th {\n        vertical-align: top;\n    }\n\n    .dataframe thead th {\n        text-align: right;\n    }\n</style>\n<table border=\"1\" class=\"dataframe\">\n  <thead>\n    <tr style=\"text-align: right;\">\n      <th></th>\n      <th>cigarettes_per_day</th>\n    </tr>\n    <tr>\n      <th>filenames</th>\n      <th></th>\n    </tr>\n  </thead>\n  <tbody>\n    <tr>\n      <th>1ef4c9a4-403e-4ed2-b9d6-06302a842278.FPKM-UQ.txt.gz</th>\n      <td>0.821918</td>\n    </tr>\n    <tr>\n      <th>44615ba8-36ce-4d2e-9d9d-b2f01179b6c8.FPKM-UQ.txt.gz</th>\n      <td>3.287671</td>\n    </tr>\n    <tr>\n      <th>378bba31-bcf1-49a1-b1ff-e14278f7054c.FPKM-UQ.txt.gz</th>\n      <td>4.383562</td>\n    </tr>\n    <tr>\n      <th>6fdbffc8-dac1-4a98-9912-9084b2ce3f28.FPKM-UQ.txt.gz</th>\n      <td>5.150685</td>\n    </tr>\n    <tr>\n      <th>ee6fc916-052f-4fab-974f-119ab34078d6.FPKM-UQ.txt.gz</th>\n      <td>3.287671</td>\n    </tr>\n  </tbody>\n</table>\n</div>"
     },
     "execution_count": 5,
     "metadata": {},
     "output_type": "execute_result"
    }
   ],
   "source": [
    "raw_cigs_per_day.head()"
   ]
  },
  {
   "cell_type": "markdown",
   "metadata": {},
   "source": [
    "### Gene expression data\n",
    "\n",
    "* [GDC Data Portal Repository for Transcriptome Profiling Gene Expression Quantification FPKM+UQ Files for TCGA Projects LUAD+LUSC (lung cancers)](https://portal.gdc.cancer.gov/repository?facetTab=cases&filters=%7B%22op%22%3A%22and%22%2C%22content%22%3A%5B%7B%22op%22%3A%22in%22%2C%22content%22%3A%7B%22field%22%3A%22cases.project.program.name%22%2C%22value%22%3A%5B%22TCGA%22%5D%7D%7D%2C%7B%22op%22%3A%22in%22%2C%22content%22%3A%7B%22field%22%3A%22cases.project.project_id%22%2C%22value%22%3A%5B%22TCGA-LUAD%22%2C%22TCGA-LUSC%22%5D%7D%7D%2C%7B%22op%22%3A%22in%22%2C%22content%22%3A%7B%22field%22%3A%22files.analysis.workflow_type%22%2C%22value%22%3A%5B%22HTSeq%20-%20FPKM-UQ%22%5D%7D%7D%2C%7B%22op%22%3A%22in%22%2C%22content%22%3A%7B%22field%22%3A%22files.data_category%22%2C%22value%22%3A%5B%22transcriptome%20profiling%22%5D%7D%7D%2C%7B%22op%22%3A%22in%22%2C%22content%22%3A%7B%22field%22%3A%22files.data_type%22%2C%22value%22%3A%5B%22Gene%20Expression%20Quantification%22%5D%7D%7D%5D%7D)\n",
    "(last visited 2022/01/06)\n",
    "* Add All Files to Cart.\n",
    "* At the cart, either download the data directly, or press Download > Manifest.\n",
    "Save the manifest in the same folder as this notebook.\n",
    "* Install the [GDC Data Transfer Tool](https://gdc.cancer.gov/access-data/gdc-data-transfer-tool)\n",
    "(last visited 2022/01/06; the download link used with wget below is subject to change)."
   ]
  },
  {
   "cell_type": "code",
   "execution_count": 6,
   "metadata": {
    "pycharm": {
     "name": "#%%\n"
    }
   },
   "outputs": [
    {
     "name": "stdout",
     "output_type": "stream",
     "text": [
      "--2022-01-18 12:55:37--  https://gdc.cancer.gov/files/public/file/gdc-client_v1.6.1_Ubuntu_x64.zip\r\n",
      "Resolving gdc.cancer.gov (gdc.cancer.gov)... 151.101.133.193, 2a04:4e42:1f::449\r\n",
      "Connecting to gdc.cancer.gov (gdc.cancer.gov)|151.101.133.193|:443... connected.\r\n",
      "HTTP request sent, awaiting response... 200 OK\r\n",
      "Length: 23940006 (23M) [application/zip]\r\n",
      "Saving to: ‘gdc-client_v1.6.1_Ubuntu_x64.zip’\r\n",
      "\r\n",
      "nt_v1.6.1_Ubuntu_x6  10%[=>                  ]   2.45M   586KB/s    eta 40s    ^C\r\n",
      "Archive:  gdc-client_v1.6.1_Ubuntu_x64.zip\r\n",
      "  End-of-central-directory signature not found.  Either this file is not\r\n",
      "  a zipfile, or it constitutes one disk of a multi-part archive.  In the\r\n",
      "  latter case the central directory and zipfile comment will be found on\r\n",
      "  the last disk(s) of this archive.\r\n",
      "unzip:  cannot find zipfile directory in one of gdc-client_v1.6.1_Ubuntu_x64.zip or\r\n",
      "        gdc-client_v1.6.1_Ubuntu_x64.zip.zip, and cannot find gdc-client_v1.6.1_Ubuntu_x64.zip.ZIP, period.\r\n",
      "rm: cannot remove 'wget-log': No such file or directory\r\n"
     ]
    }
   ],
   "source": [
    "!wget https://gdc.cancer.gov/files/public/file/gdc-client_v1.6.1_Ubuntu_x64.zip\n",
    "!unzip gdc-client_v1.6.*zip\n",
    "!rm gdc-client_v1.6.*.zip wget-log"
   ]
  },
  {
   "cell_type": "markdown",
   "metadata": {},
   "source": [
    "* We make a directory in which to store all the files.\n",
    "* Then we use the transfer tool to download the files listed in the manifest into that newly create directory.\n",
    "\n",
    "Note: The download of the transcriptome profiling files will, as a rule, take a while.\n",
    "Furthermore, if it gives an error, it may be worth re-running the following block of code until all files are downloaded."
   ]
  },
  {
   "cell_type": "code",
   "execution_count": 7,
   "metadata": {
    "pycharm": {
     "name": "#%%\n"
    }
   },
   "outputs": [
    {
     "ename": "UnboundLocalError",
     "evalue": "local variable 'child' referenced before assignment",
     "output_type": "error",
     "traceback": [
      "\u001B[0;31m---------------------------------------------------------------------------\u001B[0m",
      "\u001B[0;31mKeyboardInterrupt\u001B[0m                         Traceback (most recent call last)",
      "\u001B[0;32m~/IdeaProjectsVenvs/ML-DASK/lib/python3.9/site-packages/IPython/utils/_process_posix.py\u001B[0m in \u001B[0;36msystem\u001B[0;34m(self, cmd)\u001B[0m\n\u001B[1;32m    156\u001B[0m             \u001B[0;32melse\u001B[0m\u001B[0;34m:\u001B[0m\u001B[0;34m\u001B[0m\u001B[0;34m\u001B[0m\u001B[0m\n\u001B[0;32m--> 157\u001B[0;31m                 \u001B[0mchild\u001B[0m \u001B[0;34m=\u001B[0m \u001B[0mpexpect\u001B[0m\u001B[0;34m.\u001B[0m\u001B[0mspawn\u001B[0m\u001B[0;34m(\u001B[0m\u001B[0mself\u001B[0m\u001B[0;34m.\u001B[0m\u001B[0msh\u001B[0m\u001B[0;34m,\u001B[0m \u001B[0margs\u001B[0m\u001B[0;34m=\u001B[0m\u001B[0;34m[\u001B[0m\u001B[0;34m'-c'\u001B[0m\u001B[0;34m,\u001B[0m \u001B[0mcmd\u001B[0m\u001B[0;34m]\u001B[0m\u001B[0;34m)\u001B[0m  \u001B[0;31m# Vanilla Pexpect\u001B[0m\u001B[0;34m\u001B[0m\u001B[0;34m\u001B[0m\u001B[0m\n\u001B[0m\u001B[1;32m    158\u001B[0m             \u001B[0mflush\u001B[0m \u001B[0;34m=\u001B[0m \u001B[0msys\u001B[0m\u001B[0;34m.\u001B[0m\u001B[0mstdout\u001B[0m\u001B[0;34m.\u001B[0m\u001B[0mflush\u001B[0m\u001B[0;34m\u001B[0m\u001B[0;34m\u001B[0m\u001B[0m\n",
      "\u001B[0;32m~/IdeaProjectsVenvs/ML-DASK/lib/python3.9/site-packages/pexpect/pty_spawn.py\u001B[0m in \u001B[0;36m__init__\u001B[0;34m(self, command, args, timeout, maxread, searchwindowsize, logfile, cwd, env, ignore_sighup, echo, preexec_fn, encoding, codec_errors, dimensions, use_poll)\u001B[0m\n\u001B[1;32m    204\u001B[0m         \u001B[0;32melse\u001B[0m\u001B[0;34m:\u001B[0m\u001B[0;34m\u001B[0m\u001B[0;34m\u001B[0m\u001B[0m\n\u001B[0;32m--> 205\u001B[0;31m             \u001B[0mself\u001B[0m\u001B[0;34m.\u001B[0m\u001B[0m_spawn\u001B[0m\u001B[0;34m(\u001B[0m\u001B[0mcommand\u001B[0m\u001B[0;34m,\u001B[0m \u001B[0margs\u001B[0m\u001B[0;34m,\u001B[0m \u001B[0mpreexec_fn\u001B[0m\u001B[0;34m,\u001B[0m \u001B[0mdimensions\u001B[0m\u001B[0;34m)\u001B[0m\u001B[0;34m\u001B[0m\u001B[0;34m\u001B[0m\u001B[0m\n\u001B[0m\u001B[1;32m    206\u001B[0m         \u001B[0mself\u001B[0m\u001B[0;34m.\u001B[0m\u001B[0muse_poll\u001B[0m \u001B[0;34m=\u001B[0m \u001B[0muse_poll\u001B[0m\u001B[0;34m\u001B[0m\u001B[0;34m\u001B[0m\u001B[0m\n",
      "\u001B[0;32m~/IdeaProjectsVenvs/ML-DASK/lib/python3.9/site-packages/pexpect/pty_spawn.py\u001B[0m in \u001B[0;36m_spawn\u001B[0;34m(self, command, args, preexec_fn, dimensions)\u001B[0m\n\u001B[1;32m    302\u001B[0m \u001B[0;34m\u001B[0m\u001B[0m\n\u001B[0;32m--> 303\u001B[0;31m         self.ptyproc = self._spawnpty(self.args, env=self.env,\n\u001B[0m\u001B[1;32m    304\u001B[0m                                      cwd=self.cwd, **kwargs)\n",
      "\u001B[0;32m~/IdeaProjectsVenvs/ML-DASK/lib/python3.9/site-packages/pexpect/pty_spawn.py\u001B[0m in \u001B[0;36m_spawnpty\u001B[0;34m(self, args, **kwargs)\u001B[0m\n\u001B[1;32m    314\u001B[0m         \u001B[0;34m'''Spawn a pty and return an instance of PtyProcess.'''\u001B[0m\u001B[0;34m\u001B[0m\u001B[0;34m\u001B[0m\u001B[0m\n\u001B[0;32m--> 315\u001B[0;31m         \u001B[0;32mreturn\u001B[0m \u001B[0mptyprocess\u001B[0m\u001B[0;34m.\u001B[0m\u001B[0mPtyProcess\u001B[0m\u001B[0;34m.\u001B[0m\u001B[0mspawn\u001B[0m\u001B[0;34m(\u001B[0m\u001B[0margs\u001B[0m\u001B[0;34m,\u001B[0m \u001B[0;34m**\u001B[0m\u001B[0mkwargs\u001B[0m\u001B[0;34m)\u001B[0m\u001B[0;34m\u001B[0m\u001B[0;34m\u001B[0m\u001B[0m\n\u001B[0m\u001B[1;32m    316\u001B[0m \u001B[0;34m\u001B[0m\u001B[0m\n",
      "\u001B[0;32m~/IdeaProjectsVenvs/ML-DASK/lib/python3.9/site-packages/ptyprocess/ptyprocess.py\u001B[0m in \u001B[0;36mspawn\u001B[0;34m(cls, argv, cwd, env, echo, preexec_fn, dimensions, pass_fds)\u001B[0m\n\u001B[1;32m    314\u001B[0m         \u001B[0mos\u001B[0m\u001B[0;34m.\u001B[0m\u001B[0mclose\u001B[0m\u001B[0;34m(\u001B[0m\u001B[0mexec_err_pipe_write\u001B[0m\u001B[0;34m)\u001B[0m\u001B[0;34m\u001B[0m\u001B[0;34m\u001B[0m\u001B[0m\n\u001B[0;32m--> 315\u001B[0;31m         \u001B[0mexec_err_data\u001B[0m \u001B[0;34m=\u001B[0m \u001B[0mos\u001B[0m\u001B[0;34m.\u001B[0m\u001B[0mread\u001B[0m\u001B[0;34m(\u001B[0m\u001B[0mexec_err_pipe_read\u001B[0m\u001B[0;34m,\u001B[0m \u001B[0;36m4096\u001B[0m\u001B[0;34m)\u001B[0m\u001B[0;34m\u001B[0m\u001B[0;34m\u001B[0m\u001B[0m\n\u001B[0m\u001B[1;32m    316\u001B[0m         \u001B[0mos\u001B[0m\u001B[0;34m.\u001B[0m\u001B[0mclose\u001B[0m\u001B[0;34m(\u001B[0m\u001B[0mexec_err_pipe_read\u001B[0m\u001B[0;34m)\u001B[0m\u001B[0;34m\u001B[0m\u001B[0;34m\u001B[0m\u001B[0m\n",
      "\u001B[0;31mKeyboardInterrupt\u001B[0m: ",
      "\nDuring handling of the above exception, another exception occurred:\n",
      "\u001B[0;31mUnboundLocalError\u001B[0m                         Traceback (most recent call last)",
      "\u001B[0;32m/tmp/ipykernel_177919/3191227419.py\u001B[0m in \u001B[0;36m<module>\u001B[0;34m\u001B[0m\n\u001B[1;32m      1\u001B[0m \u001B[0mget_ipython\u001B[0m\u001B[0;34m(\u001B[0m\u001B[0;34m)\u001B[0m\u001B[0;34m.\u001B[0m\u001B[0msystem\u001B[0m\u001B[0;34m(\u001B[0m\u001B[0;34m'mkdir -p fpkm-tcga-lung-gene-exp'\u001B[0m\u001B[0;34m)\u001B[0m\u001B[0;34m\u001B[0m\u001B[0;34m\u001B[0m\u001B[0m\n\u001B[0;32m----> 2\u001B[0;31m \u001B[0mget_ipython\u001B[0m\u001B[0;34m(\u001B[0m\u001B[0;34m)\u001B[0m\u001B[0;34m.\u001B[0m\u001B[0msystem\u001B[0m\u001B[0;34m(\u001B[0m\u001B[0;34m'./gdc-client download -d fpkm-tcga-lung-gene-exp --manifest gdc_manifest*.txt'\u001B[0m\u001B[0;34m)\u001B[0m\u001B[0;34m\u001B[0m\u001B[0;34m\u001B[0m\u001B[0m\n\u001B[0m\u001B[1;32m      3\u001B[0m \u001B[0;34m\u001B[0m\u001B[0m\n",
      "\u001B[0;32m~/IdeaProjectsVenvs/ML-DASK/lib/python3.9/site-packages/ipykernel/zmqshell.py\u001B[0m in \u001B[0;36msystem_piped\u001B[0;34m(self, cmd)\u001B[0m\n\u001B[1;32m    634\u001B[0m                 \u001B[0mself\u001B[0m\u001B[0;34m.\u001B[0m\u001B[0muser_ns\u001B[0m\u001B[0;34m[\u001B[0m\u001B[0;34m'_exit_code'\u001B[0m\u001B[0;34m]\u001B[0m \u001B[0;34m=\u001B[0m \u001B[0msystem\u001B[0m\u001B[0;34m(\u001B[0m\u001B[0mcmd\u001B[0m\u001B[0;34m)\u001B[0m\u001B[0;34m\u001B[0m\u001B[0;34m\u001B[0m\u001B[0m\n\u001B[1;32m    635\u001B[0m         \u001B[0;32melse\u001B[0m\u001B[0;34m:\u001B[0m\u001B[0;34m\u001B[0m\u001B[0;34m\u001B[0m\u001B[0m\n\u001B[0;32m--> 636\u001B[0;31m             \u001B[0mself\u001B[0m\u001B[0;34m.\u001B[0m\u001B[0muser_ns\u001B[0m\u001B[0;34m[\u001B[0m\u001B[0;34m'_exit_code'\u001B[0m\u001B[0;34m]\u001B[0m \u001B[0;34m=\u001B[0m \u001B[0msystem\u001B[0m\u001B[0;34m(\u001B[0m\u001B[0mself\u001B[0m\u001B[0;34m.\u001B[0m\u001B[0mvar_expand\u001B[0m\u001B[0;34m(\u001B[0m\u001B[0mcmd\u001B[0m\u001B[0;34m,\u001B[0m \u001B[0mdepth\u001B[0m\u001B[0;34m=\u001B[0m\u001B[0;36m1\u001B[0m\u001B[0;34m)\u001B[0m\u001B[0;34m)\u001B[0m\u001B[0;34m\u001B[0m\u001B[0;34m\u001B[0m\u001B[0m\n\u001B[0m\u001B[1;32m    637\u001B[0m \u001B[0;34m\u001B[0m\u001B[0m\n\u001B[1;32m    638\u001B[0m     \u001B[0;31m# Ensure new system_piped implementation is used\u001B[0m\u001B[0;34m\u001B[0m\u001B[0;34m\u001B[0m\u001B[0;34m\u001B[0m\u001B[0m\n",
      "\u001B[0;32m~/IdeaProjectsVenvs/ML-DASK/lib/python3.9/site-packages/IPython/utils/_process_posix.py\u001B[0m in \u001B[0;36msystem\u001B[0;34m(self, cmd)\u001B[0m\n\u001B[1;32m    171\u001B[0m             \u001B[0;31m# (the character is known as ETX for 'End of Text', see\u001B[0m\u001B[0;34m\u001B[0m\u001B[0;34m\u001B[0m\u001B[0;34m\u001B[0m\u001B[0m\n\u001B[1;32m    172\u001B[0m             \u001B[0;31m# curses.ascii.ETX).\u001B[0m\u001B[0;34m\u001B[0m\u001B[0;34m\u001B[0m\u001B[0;34m\u001B[0m\u001B[0m\n\u001B[0;32m--> 173\u001B[0;31m             \u001B[0mchild\u001B[0m\u001B[0;34m.\u001B[0m\u001B[0msendline\u001B[0m\u001B[0;34m(\u001B[0m\u001B[0mchr\u001B[0m\u001B[0;34m(\u001B[0m\u001B[0;36m3\u001B[0m\u001B[0;34m)\u001B[0m\u001B[0;34m)\u001B[0m\u001B[0;34m\u001B[0m\u001B[0;34m\u001B[0m\u001B[0m\n\u001B[0m\u001B[1;32m    174\u001B[0m             \u001B[0;31m# Read and print any more output the program might produce on its\u001B[0m\u001B[0;34m\u001B[0m\u001B[0;34m\u001B[0m\u001B[0;34m\u001B[0m\u001B[0m\n\u001B[1;32m    175\u001B[0m             \u001B[0;31m# way out.\u001B[0m\u001B[0;34m\u001B[0m\u001B[0;34m\u001B[0m\u001B[0;34m\u001B[0m\u001B[0m\n",
      "\u001B[0;31mUnboundLocalError\u001B[0m: local variable 'child' referenced before assignment"
     ]
    }
   ],
   "source": [
    "!mkdir -p fpkm-tcga-lung-gene-exp\n",
    "!./gdc-client download -d fpkm-tcga-lung-gene-exp --manifest gdc_manifest*.txt"
   ]
  },
  {
   "cell_type": "markdown",
   "metadata": {},
   "source": [
    "* Don't forget to confer if the number of files in your directory is the same as the number of files\n",
    "in your GDC card.\n",
    "* Next, we open each of the files to merge them into a single dataframe.\n",
    "* We will save the concatenated dataframe into a file for future use."
   ]
  },
  {
   "cell_type": "code",
   "execution_count": 9,
   "metadata": {
    "pycharm": {
     "name": "#%%\n"
    }
   },
   "outputs": [],
   "source": [
    "from ..functions.load_gexp_dataset import load_gexp_dataset\n",
    "\n",
    "load_gexp_dataset(infolder='fpkm-tcga-lung-gene-exp', outfile='..data/lung_data/lung_fpkm.csv')"
   ]
  },
  {
   "cell_type": "markdown",
   "metadata": {},
   "source": [
    "Because we are only interested in the gene expression levels for data which has information concerning the number of\n",
    "cigarettes smoked per day available, we intersect the feature and label datasets, and sort them to ensure that they\n",
    "match on a per-sample basis"
   ]
  },
  {
   "cell_type": "code",
   "execution_count": 10,
   "metadata": {
    "pycharm": {
     "name": "#%%\n"
    }
   },
   "outputs": [
    {
     "name": "stdout",
     "output_type": "stream",
     "text": [
      "Before matching: (1145, 60483)\n",
      "After matching:\n",
      "Gene expression Features (776, 60483)\n",
      "Cigarettes per Day Labels (776, 1)\n"
     ]
    }
   ],
   "source": [
    "raw_lung = pd.read_csv('..data/lung_data/lung_fpkm.csv', index_col=0)\n",
    "print(\"Before matching:\", raw_lung.shape)\n",
    "\n",
    "lung_gexp = raw_lung.loc[raw_lung.index.isin(raw_cigs_per_day.index)].sort_index()\n",
    "cigs_per_day = raw_cigs_per_day.loc[raw_cigs_per_day.index.isin(lung_gexp.index)].sort_index()\n",
    "print(\"After matching:\")\n",
    "print(\"Gene expression Features\", lung_gexp.shape)\n",
    "print(\"Cigarettes per Day Labels\", cigs_per_day.shape)"
   ]
  },
  {
   "cell_type": "markdown",
   "metadata": {},
   "source": [
    "Since coding gene selection is a static preprocessing step, we might perform it during the\n",
    "one-time data preparation step in order to avoid introducing unnecessary computations when\n",
    "iterating over and finetuning dynamic steps in the ML pipelines.\n",
    "\n",
    "**Obtaining a list of coding genes**\n",
    "* [Download a list of protein coding gene IDs from Ensembl](http://www.ensembl.org/biomart/martview/0c0008282d973b80155b23e263f874a8)\n",
    "(last visited 2022/01/06).\n",
    "* To select protein coding genes, in Dataset choose Ensemble Genes (Version) > Human Genes (Version);\n",
    "then click Filters and, under GENE, tick Gene Type and select protein coding;\n",
    "lastly, go to Attributes, and under GENE untick all boxes except Gene stable ID.\n",
    "* To download the list of protein coding genes, go to Results,\n",
    "then Export all results to > File and TSV and tick Unique results only.\n",
    "Save the file as `protein_coding_genes.txt` in the same directory as this notebook.\n",
    "\n",
    "**Coding Gene Selection**\n",
    "* Load the protein coding gene list and select only coding genes from the main DF.\n",
    "* By reducing the number of genes (features), we reduce dimensionality (curse of dimensionality!)."
   ]
  },
  {
   "cell_type": "code",
   "execution_count": null,
   "metadata": {
    "pycharm": {
     "name": "#%%\n"
    }
   },
   "outputs": [],
   "source": [
    "protein_coding_genes = pd.read_csv('protein_coding_genes.txt', sep='\\n', header=0).values\n",
    "unfurled_protein_coding_genes = [gene_id[0] for gene_id in protein_coding_genes.tolist()]\n",
    "coding_lung_gexp = lung_gexp.loc[:, lung_gexp.columns.str.contains('|'.join(unfurled_protein_coding_genes))]\n",
    "\n",
    "print(\"Gene expression matrix dimensions after coding gene selection:\", coding_lung_gexp.shape)"
   ]
  },
  {
   "cell_type": "markdown",
   "metadata": {},
   "source": [
    "* Write the processed gene expression dataset into files.\n",
    "* CSV files work well with pandas.\n",
    "* For DASK, it is recommended to write files as parquets.\n",
    "* To facilitate certain downstream steps, we reset the index names to default ordinal integers."
   ]
  },
  {
   "cell_type": "code",
   "execution_count": 11,
   "metadata": {
    "pycharm": {
     "name": "#%%\n"
    }
   },
   "outputs": [],
   "source": [
    "coding_lung_gexp.to_csv(path_or_buf='../data/lung_data/coding_lung_fpkm.csv', index=False)\n",
    "cigs_per_day.to_csv(path_or_buf='..data/lung_data/cigs_per_day.csv', index=False)"
   ]
  },
  {
   "cell_type": "markdown",
   "metadata": {},
   "source": [
    "* For use with Dask, adjusting a parquet's chunk size is important.\n",
    "Smaller chunks provide more parallelization, but larger chunks have a smaller computational overhead.\n",
    "* To guarantee that the feature matrix and label vector's samples match, we would like them to have the same\n",
    "set of sample-wise divisions."
   ]
  },
  {
   "cell_type": "code",
   "execution_count": 14,
   "metadata": {
    "pycharm": {
     "name": "#%%\n"
    }
   },
   "outputs": [],
   "source": [
    "import dask.dataframe as dd\n",
    "import sys\n",
    "\n",
    "# 6e7 bytes equals around 60 MB;\n",
    "# dividing total dataframe byte size by this value ensures that each partition will have roughly that size.\n",
    "dask_coding_lung_gexp = dd.from_pandas(coding_lung_gexp.reset_index(drop=True),\n",
    "                                       npartitions=(sys.getsizeof(coding_lung_gexp)//6e7))\n",
    "\n",
    "dask_coding_lung_gexp.to_parquet('..data/lung_data/coding_lung_fpkm.parquet',\n",
    "                                 engine='pyarrow', compression='snappy')\n",
    "\n",
    "dask_coding_cigs_per_day = dd.from_pandas(cigs_per_day.reset_index(drop=True), npartitions=1).repartition(\n",
    "    divisions=dask_coding_lung_gexp.divisions)\n",
    "dask_coding_cigs_per_day.reset_index(drop=True).to_parquet('..data/lung_data/coding_cigs_per_day.parquet',\n",
    "                                                            engine='pyarrow', compression='snappy')\n"
   ]
  }
 ],
 "metadata": {
  "kernelspec": {
   "display_name": "Python 3 (ipykernel)",
   "language": "python",
   "name": "python3"
  },
  "language_info": {
   "codemirror_mode": {
    "name": "ipython",
    "version": 3
   },
   "file_extension": ".py",
   "mimetype": "text/x-python",
   "name": "python",
   "nbconvert_exporter": "python",
   "pygments_lexer": "ipython3",
   "version": "3.9.4"
  }
 },
 "nbformat": 4,
 "nbformat_minor": 1
}