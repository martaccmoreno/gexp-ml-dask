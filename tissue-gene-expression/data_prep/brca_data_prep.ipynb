{
 "cells": [
  {
   "cell_type": "markdown",
   "metadata": {
    "pycharm": {
     "name": "#%% md\n"
    }
   },
   "source": [
    "## Obtaining the data\n",
    "\n",
    "All steps were conducted in Linux Ubuntu 20.04.3 LTS.\n",
    "\n",
    "## Create data folder"
   ]
  },
  {
   "cell_type": "code",
   "source": [
    "!mkdir -p data/brca-data"
   ],
   "metadata": {
    "collapsed": false,
    "pycharm": {
     "name": "#%%\n"
    }
   },
   "execution_count": null,
   "outputs": []
  },
  {
   "cell_type": "markdown",
   "metadata": {
    "pycharm": {
     "name": "#%% md\n"
    }
   },
   "source": [
    "### Subtype Information\n",
    "\n",
    "* Copy and paste these commands into RStudio or your R IDE of choice. \n",
    "* Move the resulting .tsv file into the same directory as this notebook."
   ]
  },
  {
   "cell_type": "markdown",
   "metadata": {},
   "source": [
    "library(tidyverse)\n",
    "\n",
    "library(TCGAbiolinks)\n",
    "\n",
    "tcga_subtypes <- PanCancerAtlas_subtypes() %>% filter(cancer.type == \"BRCA\")\n",
    "\n",
    "write.table(tcga_subtypes, file='raw_brca_subtypes.tsv', sep='\\t', row.names=FALSE)"
   ]
  },
  {
   "cell_type": "markdown",
   "metadata": {
    "pycharm": {
     "name": "#%% md\n"
    }
   },
   "source": [
    "* The .tsv file with subtype information contains extraneous information and lacks the filename information\n",
    "required to match it with gene expression data. Therefore we must fix these issues.\n",
    "\n",
    "* We begin by loading the metadata and extract a dictionary mapping submitter IDs (present in the subtype dataset)\n",
    "to filenames (present in the gene expression dataset) to bridge feature and label datasets."
   ]
  },
  {
   "cell_type": "code",
   "execution_count": 1,
   "metadata": {
    "pycharm": {
     "name": "#%%\n"
    }
   },
   "outputs": [],
   "source": [
    "import pandas as pd \n",
    "\n",
    "brca_subtypes = pd.read_csv('raw_brca_subtypes.tsv', index_col=None, header=0, sep='\\t',\n",
    "                            usecols=['pan.samplesID', 'Subtype_mRNA'])"
   ]
  },
  {
   "cell_type": "code",
   "execution_count": 2,
   "metadata": {
    "pycharm": {
     "name": "#%%\n"
    }
   },
   "outputs": [],
   "source": [
    "import json\n",
    "\n",
    "def get_submitter_filename_dict(metadata):\n",
    "    with open(metadata) as f:\n",
    "        metadata_json = json.load(f)\n",
    "    subm_dict = {entry['associated_entities'][0]['entity_submitter_id']: entry['file_name']\n",
    "                               for entry in metadata_json\n",
    "                               if 'TCGA' in entry['associated_entities'][0]['entity_submitter_id']}\n",
    "    return  subm_dict\n"
   ]
  },
  {
   "cell_type": "code",
   "execution_count": 3,
   "metadata": {
    "pycharm": {
     "name": "#%%\n"
    }
   },
   "outputs": [
    {
     "name": "stdout",
     "output_type": "stream",
     "text": [
      "                                                 Subtype_mRNA\n",
      "filenames                                                    \n",
      "01f17467-b7de-49d4-a9d7-00108f4de1f9.FPKM.txt.gz       Normal\n",
      "f5aa7410-7a2e-4267-ba3a-2a6a391f6b45.FPKM.txt.gz         LumA\n",
      "9075b4ab-16ef-4cdd-bfe5-855d18b15e11.FPKM.txt.gz         LumA\n",
      "00511204-3512-4a5e-b664-60271e968903.FPKM.txt.gz         LumA\n",
      "7f92fd47-9938-4069-bc1d-ce6d7d6c1dc4.FPKM.txt.gz         LumA\n"
     ]
    }
   ],
   "source": [
    "submitter_filename_dict = get_submitter_filename_dict('metadata.cart.2021-03-18.json')\n",
    "\n",
    "brca_subtypes['pan.samplesID'] = brca_subtypes['pan.samplesID'].map(submitter_filename_dict)\n",
    "brca_subtypes = brca_subtypes.rename(columns={'pan.samplesID': 'filenames'})\n",
    "brca_subtypes['filenames'] = brca_subtypes['filenames'].dropna()\n",
    "brca_subtypes = brca_subtypes.set_index('filenames')\n",
    "\n",
    "print(brca_subtypes.head())"
   ]
  },
  {
   "cell_type": "markdown",
   "metadata": {},
   "source": [
    "### Gene expression data\n",
    "\n",
    "* [GDC Data Portal Repository RNA-Seq Transcriptome Profiling FPKM Files for Primary Site = Breast](https://portal.gdc.cancer.gov/repository?facetTab=cases&filters=%7B%22op%22%3A%22and%22%2C%22content%22%3A%5B%7B%22op%22%3A%22in%22%2C%22content%22%3A%7B%22field%22%3A%22cases.primary_site%22%2C%22value%22%3A%5B%22breast%22%5D%7D%7D%2C%7B%22op%22%3A%22in%22%2C%22content%22%3A%7B%22field%22%3A%22files.analysis.workflow_type%22%2C%22value%22%3A%5B%22HTSeq%20-%20FPKM%22%5D%7D%7D%2C%7B%22op%22%3A%22in%22%2C%22content%22%3A%7B%22field%22%3A%22files.data_category%22%2C%22value%22%3A%5B%22transcriptome%20profiling%22%5D%7D%7D%2C%7B%22op%22%3A%22in%22%2C%22content%22%3A%7B%22field%22%3A%22files.data_type%22%2C%22value%22%3A%5B%22Gene%20Expression%20Quantification%22%5D%7D%7D%2C%7B%22op%22%3A%22in%22%2C%22content%22%3A%7B%22field%22%3A%22files.experimental_strategy%22%2C%22value%22%3A%5B%22RNA-Seq%22%5D%7D%7D%5D%7D)\n",
    "(last visited 2022/01/10)\n",
    "* Add All Files to Cart\n",
    "* Go to the [Cart](https://portal.gdc.cancer.gov/cart) and Remove From Cart > Unauthorized Files\n",
    "* At the cart, either download directly, or press Download > Manifest. Save the manifest in the same folder as this notebook.\n",
    "* Still at the cart, press Metadata. Save that JSON file in the same directory as this notebook.\n",
    "* If you downloaded the manifest, download the [GDC Data Transfer Tool](https://gdc.cancer.gov/access-data/gdc-data-transfer-tool)\n",
    "(last visited 2022/01/10)."
   ]
  },
  {
   "cell_type": "code",
   "execution_count": null,
   "metadata": {
    "pycharm": {
     "name": "#%%\n"
    }
   },
   "outputs": [],
   "source": [
    "!wget https://gdc.cancer.gov/files/public/file/gdc-client_v1.6.1_Ubuntu_x64.zip\n",
    "!unzip gdc-client_v1.6.*zip\n",
    "!rm gdc-client_v1.6.*.zip wget-log"
   ]
  },
  {
   "cell_type": "markdown",
   "metadata": {},
   "source": [
    "* If downloading the files using the manifest method, make a directory in which to store them.\n",
    "* Use the transfer tool to download the files listed in the manifest into that newly create directory.\n",
    "\n",
    "Note: The download of the transcriptome profiling files will, as a rule, take a while.\n",
    "Furthermore, if it gives an error, it may be worth re-running the following block of code until all files are downloaded."
   ]
  },
  {
   "cell_type": "code",
   "execution_count": null,
   "metadata": {
    "pycharm": {
     "name": "#%%\n"
    }
   },
   "outputs": [],
   "source": [
    "!mkdir -p fpkm-tcga-brca-gene-exp\n",
    "!./gdc-client download -d fpkm-tcga-brca-gene-exp --manifest gdc_manifest*.txt"
   ]
  },
  {
   "cell_type": "markdown",
   "metadata": {},
   "source": [
    "* Next, open each individual file and merge them into a single dataframe.\n",
    "* We will save the concatenated dataframe into a file for future use."
   ]
  },
  {
   "cell_type": "code",
   "execution_count": 4,
   "metadata": {
    "pycharm": {
     "name": "#%%\n"
    }
   },
   "outputs": [],
   "source": [
    "from ..functions.load_gexp_dataset import load_gexp_dataset\n",
    "load_gexp_dataset(infolder='../data/brca_data/fpkm-tcga-brca-gene-exp', outfile='raw_brca_fpkm.csv')"
   ]
  },
  {
   "cell_type": "markdown",
   "metadata": {
    "pycharm": {
     "name": "#%% md\n"
    }
   },
   "source": [
    "Because we are only interested in the gene expression levels for data which has BRCA molecular subtype labels\n",
    "available, we intersect the feature and label datasets, and sort them to ensure that they match on a per-sample basis"
   ]
  },
  {
   "cell_type": "code",
   "execution_count": 11,
   "metadata": {
    "pycharm": {
     "name": "#%%\n"
    }
   },
   "outputs": [
    {
     "name": "stdout",
     "output_type": "stream",
     "text": [
      "Gene expression matrix dimensions: (1205, 60483)\n",
      "Subtype vector dimensions: (1205, 1)\n"
     ]
    }
   ],
   "source": [
    "raw_brca = pd.read_csv('..data/brca_data/raw_brca_fpkm.csv', index_col=0)\n",
    "\n",
    "brca_gexp = raw_brca.loc[raw_brca.index.isin(brca_subtypes.index)].sort_index()\n",
    "brca_subtypes = brca_subtypes.loc[brca_subtypes.index.isin(brca_gexp.index)].sort_index()\n",
    "\n",
    "print(\"Gene expression matrix dimensions:\", brca_gexp.shape)\n",
    "print(\"Subtype vector dimensions:\", brca_subtypes.shape)"
   ]
  },
  {
   "cell_type": "markdown",
   "metadata": {
    "pycharm": {
     "name": "#%% md\n"
    }
   },
   "source": [
    "Since coding gene selection is a static preprocessing step, we might perform it during the\n",
    "one-time data preparation step in order to avoid introducing unnecessary computations when\n",
    "iterating over and finetuning dynamic steps in the ML pipelines.\n",
    "\n",
    "To select coding genes:\n",
    "\n",
    "**Obtaining a list of coding genes**\n",
    "* [Download a list of protein coding gene IDs from Ensembl](http://www.ensembl.org/biomart/martview/0c0008282d973b80155b23e263f874a8)\n",
    "(last visited 2022/01/06).\n",
    "* To select protein coding genes, in Dataset choose Ensemble Genes (Version) > Human Genes (Version);\n",
    "then click Filters and, under GENE, tick Gene Type and select protein coding;\n",
    "lastly, go to Attributes, and under GENE untick all boxes except Gene stable ID.\n",
    "* To download the list of protein coding genes, go to Results,\n",
    "then Export all results to > File and TSV and tick Unique results only.\n",
    "Save the file as `protein_coding_genes.txt` in the same directory as this notebook.\n",
    "\n",
    "**Coding Gene Selection**\n",
    "* Then load that list and select only coding genes from the main dataframe."
   ]
  },
  {
   "cell_type": "code",
   "execution_count": 8,
   "metadata": {
    "pycharm": {
     "name": "#%%\n"
    }
   },
   "outputs": [
    {
     "name": "stdout",
     "output_type": "stream",
     "text": [
      "Gene expression matrix dimensions after coding gene selection: (1205, 19564)\n"
     ]
    }
   ],
   "source": [
    "protein_coding_genes = pd.read_csv('protein_coding_genes.txt', sep='\\n', header=0).values\n",
    "unfurled_protein_coding_genes = [gene_id[0] for gene_id in protein_coding_genes.tolist()]\n",
    "coding_brca_gexp = brca_gexp.loc[:, brca_gexp.columns.str.contains('|'.join(unfurled_protein_coding_genes))]\n",
    "\n",
    "print(\"Gene expression matrix dimensions after coding gene selection:\", coding_brca_gexp.shape)"
   ]
  },
  {
   "cell_type": "markdown",
   "metadata": {},
   "source": [
    "* Write the processed datasets (both with all genes and with only coding genes) into files.\n",
    "* CSV files work for pandas.\n",
    "* For DASK, it is recommended to write files as parquets.\n",
    "* To facilitate certain downstream pipeline steps, we reset the index names to default ordinal integers."
   ]
  },
  {
   "cell_type": "code",
   "execution_count": 9,
   "metadata": {
    "pycharm": {
     "name": "#%%\n"
    }
   },
   "outputs": [],
   "source": [
    "brca_gexp.to_csv(path_or_buf='../data/brca_data/brca_fpkm.csv', index=False)\n",
    "coding_brca_gexp.to_csv(path_or_buf='../data/brca_data/coding_brca_fpkm.csv', index=False)\n",
    "\n",
    "brca_subtypes.to_csv(path_or_buf='../data/brca_data/brca_subtypes.csv', index=False)"
   ]
  },
  {
   "cell_type": "markdown",
   "metadata": {
    "pycharm": {
     "name": "#%% md\n"
    }
   },
   "source": [
    "* Adjusting chunk size is important. Smaller chunks provide more parallelization, but larger\n",
    "chunks offer less computational overhead.\n",
    "* To guarantee that the feature matrix and label vector's samples match, we would like them to have the same\n",
    "set of sample-wise divisions."
   ]
  },
  {
   "cell_type": "code",
   "execution_count": 10,
   "metadata": {
    "pycharm": {
     "name": "#%%\n"
    }
   },
   "outputs": [],
   "source": [
    "import dask.dataframe as dd\n",
    "import sys\n",
    "\n",
    "dask_brca_gexp = dd.from_pandas(brca_gexp.reset_index(drop=True), npartitions=(sys.getsizeof(brca_gexp)//6e7))\n",
    "dask_coding_brca_gexp = dd.from_pandas(coding_brca_gexp.reset_index(drop=True),\n",
    "                                       npartitions=(sys.getsizeof(coding_brca_gexp)//6e7))\n",
    "\n",
    "dask_brca_gexp.to_parquet('../data/brca_data/brca_fpkm.parquet', engine='pyarrow',\n",
    "                          compression='snappy')\n",
    "dask_coding_brca_gexp.to_parquet('../data/brca_data/coding_brca_fpkm.parquet',\n",
    "                                 engine='pyarrow', compression='snappy')\n",
    "\n",
    "dask_brca_subtypes = dd.from_pandas(brca_subtypes.reset_index(drop=True), npartitions=1).repartition(\n",
    "    divisions=dask_brca_gexp.divisions)\n",
    "dask_brca_subtypes.reset_index(drop=True).to_parquet('../data/brca_data/brca_subtypes.parquet',\n",
    "                                                engine='pyarrow', compression='snappy')\n",
    "\n",
    "dask_coding_brca_subtypes = dd.from_pandas(brca_subtypes.reset_index(drop=True), npartitions=1).repartition(\n",
    "    divisions=dask_coding_brca_gexp.divisions)\n",
    "dask_coding_brca_subtypes.reset_index(drop=True).to_parquet('../data/brca_data/coding_brca_subtypes.parquet',\n",
    "                                                     engine='pyarrow', compression='snappy')"
   ]
  }
 ],
 "metadata": {
  "kernelspec": {
   "display_name": "Python 3 (ipykernel)",
   "language": "python",
   "name": "python3"
  },
  "language_info": {
   "codemirror_mode": {
    "name": "ipython",
    "version": 3
   },
   "file_extension": ".py",
   "mimetype": "text/x-python",
   "name": "python",
   "nbconvert_exporter": "python",
   "pygments_lexer": "ipython3",
   "version": "3.8.10"
  }
 },
 "nbformat": 4,
 "nbformat_minor": 4
}